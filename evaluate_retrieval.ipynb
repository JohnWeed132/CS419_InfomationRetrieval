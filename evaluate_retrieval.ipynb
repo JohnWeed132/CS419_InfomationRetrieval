{
 "cells": [
  {
   "cell_type": "code",
   "execution_count": 1,
   "metadata": {},
   "outputs": [],
   "source": [
    "import pandas as pd \n",
    "import numpy as np\n",
    "\n",
    "from llama_index.core import StorageContext, VectorStoreIndex\n",
    "from llama_index.core.schema import TextNode \n",
    "\n",
    "import qdrant_client\n",
    "from llama_index.vector_stores.qdrant import QdrantVectorStore\n",
    "from llama_index.embeddings.huggingface import HuggingFaceEmbedding"
   ]
  },
  {
   "cell_type": "code",
   "execution_count": 2,
   "metadata": {},
   "outputs": [
    {
     "name": "stdout",
     "output_type": "stream",
     "text": [
      "Connected to Qdrant successfully!\n",
      "Available collections: collections=[CollectionDescription(name='uit_halong'), CollectionDescription(name='uit_improve_halong'), CollectionDescription(name='uit_bkai'), CollectionDescription(name='uit_improve_bkai')]\n"
     ]
    }
   ],
   "source": [
    "client = qdrant_client.QdrantClient(\n",
    "    host=\"localhost\",\n",
    "    port=6333\n",
    ")\n",
    "try:\n",
    "    response = client.get_collections()\n",
    "    print(\"Connected to Qdrant successfully!\")\n",
    "    print(\"Available collections:\", response)\n",
    "except Exception as e:\n",
    "    print(\"Failed to connect to Qdrant:\", e)"
   ]
  },
  {
   "cell_type": "code",
   "execution_count": 3,
   "metadata": {},
   "outputs": [
    {
     "data": {
      "text/html": [
       "<div>\n",
       "<style scoped>\n",
       "    .dataframe tbody tr th:only-of-type {\n",
       "        vertical-align: middle;\n",
       "    }\n",
       "\n",
       "    .dataframe tbody tr th {\n",
       "        vertical-align: top;\n",
       "    }\n",
       "\n",
       "    .dataframe thead th {\n",
       "        text-align: right;\n",
       "    }\n",
       "</style>\n",
       "<table border=\"1\" class=\"dataframe\">\n",
       "  <thead>\n",
       "    <tr style=\"text-align: right;\">\n",
       "      <th></th>\n",
       "      <th>question</th>\n",
       "      <th>metadata</th>\n",
       "    </tr>\n",
       "  </thead>\n",
       "  <tbody>\n",
       "    <tr>\n",
       "      <th>0</th>\n",
       "      <td>Học liệu điện tử sau khi được thông qua bởi ĐV...</td>\n",
       "      <td>{'document': 'QUY ĐỊNH DẠY VÀ HỌC THEO PHƯƠNG ...</td>\n",
       "    </tr>\n",
       "    <tr>\n",
       "      <th>1</th>\n",
       "      <td>Có thể nộp bản sao giấy khai sinh cho hồ sơ đề...</td>\n",
       "      <td>{'document': 'QUY CHẾ Văn bằng, chứng chỉ của ...</td>\n",
       "    </tr>\n",
       "  </tbody>\n",
       "</table>\n",
       "</div>"
      ],
      "text/plain": [
       "                                            question  \\\n",
       "0  Học liệu điện tử sau khi được thông qua bởi ĐV...   \n",
       "1  Có thể nộp bản sao giấy khai sinh cho hồ sơ đề...   \n",
       "\n",
       "                                            metadata  \n",
       "0  {'document': 'QUY ĐỊNH DẠY VÀ HỌC THEO PHƯƠNG ...  \n",
       "1  {'document': 'QUY CHẾ Văn bằng, chứng chỉ của ...  "
      ]
     },
     "execution_count": 3,
     "metadata": {},
     "output_type": "execute_result"
    }
   ],
   "source": [
    "test = pd.read_csv(\"data/test.csv\")\n",
    "test[\"metadata\"] = test.apply(lambda row: {\"document\": row[\"document\"], \"article\": row[\"article\"]}, axis=1)\n",
    "test = test[[\"question\",\"metadata\"]]\n",
    "test.head(2)"
   ]
  },
  {
   "cell_type": "code",
   "execution_count": 4,
   "metadata": {},
   "outputs": [],
   "source": [
    "def evaluate(retriver, test):\n",
    "    hit = 0 \n",
    "    mrr_score = 0\n",
    "    ndcg_score = 0\n",
    "    for _, row in test.iterrows():\n",
    "        results = retriver.retrieve(row[\"question\"])\n",
    "        meta = [r.metadata for r in results]\n",
    "        if row[\"metadata\"] in meta:\n",
    "            hit += 1\n",
    "            index = meta.index(row[\"metadata\"])\n",
    "            mrr_score += 1/(index+1)\n",
    "            ndcg_score += 1/(np.log2(index+2))\n",
    "    print(\"Hit rate:\", hit/len(test))\n",
    "    print(\"MRR score:\", mrr_score/len(test))\n",
    "    print(\"NDCG score:\", ndcg_score/len(test))"
   ]
  },
  {
   "cell_type": "markdown",
   "metadata": {},
   "source": [
    "## halong embedding"
   ]
  },
  {
   "cell_type": "markdown",
   "metadata": {},
   "source": [
    "### halong"
   ]
  },
  {
   "cell_type": "code",
   "execution_count": 5,
   "metadata": {},
   "outputs": [],
   "source": [
    "model_halong = HuggingFaceEmbedding(model_name=\"hiieu/halong_embedding\")\n",
    "vector_halong = QdrantVectorStore(\n",
    "    \"uit_halong\",\n",
    "    client=client,\n",
    "    enable_hybrid=True,\n",
    "    embed_model = model_halong\n",
    ")\n",
    "index_halong = VectorStoreIndex.from_vector_store(vector_halong,embed_model = model_halong)"
   ]
  },
  {
   "cell_type": "code",
   "execution_count": 6,
   "metadata": {},
   "outputs": [
    {
     "name": "stdout",
     "output_type": "stream",
     "text": [
      "Hit rate: 0.8739754098360656\n",
      "MRR score: 0.6367970173041891\n",
      "NDCG score: 0.6941268037714591\n"
     ]
    }
   ],
   "source": [
    "retriver_halong = index_halong.as_retriever(vector_store_query_mode=\"hybrid\",alpha = 0,similarity_top_k = 10)\n",
    "evaluate(retriver_halong, test)"
   ]
  },
  {
   "cell_type": "code",
   "execution_count": 7,
   "metadata": {},
   "outputs": [
    {
     "name": "stdout",
     "output_type": "stream",
     "text": [
      "Hit rate: 0.8739754098360656\n",
      "MRR score: 0.6367970173041891\n",
      "NDCG score: 0.6941268037714591\n"
     ]
    }
   ],
   "source": [
    "retriver_halong = index_halong.as_retriever(vector_store_query_mode=\"hybrid\",alpha = 0.5,similarity_top_k = 10)\n",
    "evaluate(retriver_halong, test)"
   ]
  },
  {
   "cell_type": "code",
   "execution_count": 8,
   "metadata": {},
   "outputs": [
    {
     "name": "stdout",
     "output_type": "stream",
     "text": [
      "Hit rate: 0.8924180327868853\n",
      "MRR score: 0.6956442720530839\n",
      "NDCG score: 0.7437476553854001\n"
     ]
    }
   ],
   "source": [
    "retriver_halong = index_halong.as_retriever(vector_store_query_mode=\"hybrid\",alpha = 0.75,similarity_top_k = 10)\n",
    "evaluate(retriver_halong, test)"
   ]
  },
  {
   "cell_type": "code",
   "execution_count": 9,
   "metadata": {},
   "outputs": [
    {
     "name": "stdout",
     "output_type": "stream",
     "text": [
      "Hit rate: 0.8995901639344263\n",
      "MRR score: 0.6949502341920376\n",
      "NDCG score: 0.7449288013764916\n"
     ]
    }
   ],
   "source": [
    "retriver_halong = index_halong.as_retriever(vector_store_query_mode=\"hybrid\",alpha = 1,similarity_top_k = 10)\n",
    "evaluate(retriver_halong, test)"
   ]
  },
  {
   "cell_type": "code",
   "execution_count": null,
   "metadata": {},
   "outputs": [],
   "source": []
  },
  {
   "cell_type": "markdown",
   "metadata": {},
   "source": [
    "### Improved Halong\n"
   ]
  },
  {
   "cell_type": "code",
   "execution_count": 10,
   "metadata": {},
   "outputs": [],
   "source": [
    "model_improve_halong = HuggingFaceEmbedding(model_name=\"johnweak132/improve_halong\")\n",
    "vector_improve_halong = QdrantVectorStore(\n",
    "    \"uit_improve_halong\",\n",
    "    client=client,\n",
    "    enable_hybrid=True,\n",
    "    embed_model = model_improve_halong\n",
    ")\n",
    "index_improve_halong = VectorStoreIndex.from_vector_store(vector_improve_halong,embed_model = model_improve_halong)"
   ]
  },
  {
   "cell_type": "code",
   "execution_count": 11,
   "metadata": {},
   "outputs": [
    {
     "name": "stdout",
     "output_type": "stream",
     "text": [
      "Hit rate: 0.9620901639344263\n",
      "MRR score: 0.7468831316679684\n",
      "NDCG score: 0.7995522335515066\n"
     ]
    }
   ],
   "source": [
    "retriver_improve_halong = index_improve_halong.as_retriever(vector_store_query_mode=\"hybrid\",alpha = 0,similarity_top_k = 10)\n",
    "evaluate(retriver_improve_halong, test)"
   ]
  },
  {
   "cell_type": "code",
   "execution_count": 12,
   "metadata": {},
   "outputs": [
    {
     "name": "stdout",
     "output_type": "stream",
     "text": [
      "Hit rate: 0.9620901639344263\n",
      "MRR score: 0.7468831316679684\n",
      "NDCG score: 0.7995522335515066\n"
     ]
    }
   ],
   "source": [
    "retriver_improve_halong = index_improve_halong.as_retriever(vector_store_query_mode=\"hybrid\",alpha = 0.5,similarity_top_k = 10)\n",
    "evaluate(retriver_improve_halong, test)"
   ]
  },
  {
   "cell_type": "code",
   "execution_count": 13,
   "metadata": {},
   "outputs": [
    {
     "name": "stdout",
     "output_type": "stream",
     "text": [
      "Hit rate: 0.9682377049180327\n",
      "MRR score: 0.8242083821233419\n",
      "NDCG score: 0.8599873762936563\n"
     ]
    }
   ],
   "source": [
    "retriver_improve_halong = index_improve_halong.as_retriever(vector_store_query_mode=\"hybrid\",alpha = 0.75,similarity_top_k = 10)\n",
    "evaluate(retriver_improve_halong, test)"
   ]
  },
  {
   "cell_type": "code",
   "execution_count": 14,
   "metadata": {},
   "outputs": [
    {
     "name": "stdout",
     "output_type": "stream",
     "text": [
      "Hit rate: 0.9733606557377049\n",
      "MRR score: 0.8263279013791319\n",
      "NDCG score: 0.8626988271645647\n"
     ]
    }
   ],
   "source": [
    "retriver_improve_halong = index_improve_halong.as_retriever(vector_store_query_mode=\"hybrid\",alpha = 1,similarity_top_k = 10)\n",
    "evaluate(retriver_improve_halong, test)"
   ]
  },
  {
   "cell_type": "markdown",
   "metadata": {},
   "source": [
    "## Bkai vibi "
   ]
  },
  {
   "cell_type": "code",
   "execution_count": 15,
   "metadata": {},
   "outputs": [],
   "source": [
    "model_bkai = HuggingFaceEmbedding(model_name=\"bkai-foundation-models/vietnamese-bi-encoder\")\n",
    "vector_bkai = QdrantVectorStore(\n",
    "    \"uit_bkai\",\n",
    "    client=client,\n",
    "    enable_hybrid=True,\n",
    "    embed_model = model_bkai\n",
    ")\n",
    "index_bkai = VectorStoreIndex.from_vector_store(vector_bkai,embed_model = model_bkai)"
   ]
  },
  {
   "cell_type": "code",
   "execution_count": 16,
   "metadata": {},
   "outputs": [
    {
     "name": "stdout",
     "output_type": "stream",
     "text": [
      "Hit rate: 0.7284836065573771\n",
      "MRR score: 0.49902338667707474\n",
      "NDCG score: 0.5540688899163141\n"
     ]
    }
   ],
   "source": [
    "retriver_bkai = index_bkai.as_retriever(vector_store_query_mode=\"hybrid\",alpha = 0,similarity_top_k = 10)\n",
    "evaluate(retriver_bkai, test)"
   ]
  },
  {
   "cell_type": "code",
   "execution_count": 17,
   "metadata": {},
   "outputs": [
    {
     "name": "stdout",
     "output_type": "stream",
     "text": [
      "Hit rate: 0.7284836065573771\n",
      "MRR score: 0.49902338667707474\n",
      "NDCG score: 0.5540688899163141\n"
     ]
    }
   ],
   "source": [
    "retriver_bkai = index_bkai.as_retriever(vector_store_query_mode=\"hybrid\",alpha = 0.5,similarity_top_k = 10)\n",
    "evaluate(retriver_bkai, test)"
   ]
  },
  {
   "cell_type": "code",
   "execution_count": 18,
   "metadata": {},
   "outputs": [
    {
     "name": "stdout",
     "output_type": "stream",
     "text": [
      "Hit rate: 0.742827868852459\n",
      "MRR score: 0.5097588147280769\n",
      "NDCG score: 0.5658561840769677\n"
     ]
    }
   ],
   "source": [
    "retriver_bkai = index_bkai.as_retriever(vector_store_query_mode=\"hybrid\",alpha = 0.75,similarity_top_k = 10)\n",
    "evaluate(retriver_bkai, test)"
   ]
  },
  {
   "cell_type": "code",
   "execution_count": 19,
   "metadata": {},
   "outputs": [
    {
     "name": "stdout",
     "output_type": "stream",
     "text": [
      "Hit rate: 0.7469262295081968\n",
      "MRR score: 0.493544268800416\n",
      "NDCG score: 0.5538255349486937\n"
     ]
    }
   ],
   "source": [
    "retriver_bkai = index_bkai.as_retriever(vector_store_query_mode=\"hybrid\",alpha = 1,similarity_top_k = 10)\n",
    "evaluate(retriver_bkai, test)"
   ]
  },
  {
   "cell_type": "markdown",
   "metadata": {},
   "source": [
    "## Improved bkai"
   ]
  },
  {
   "cell_type": "code",
   "execution_count": 20,
   "metadata": {},
   "outputs": [],
   "source": [
    "model_improve_bkai = HuggingFaceEmbedding(model_name=\"johnweak132/improve_vibi\")\n",
    "vector_improve_bkai = QdrantVectorStore(\n",
    "    \"uit_improve_bkai\",\n",
    "    client=client,\n",
    "    enable_hybrid=True,\n",
    "    embed_model = model_improve_bkai\n",
    ")\n",
    "index_improve_bkai = VectorStoreIndex.from_vector_store(vector_improve_bkai,embed_model = model_improve_bkai)"
   ]
  },
  {
   "cell_type": "code",
   "execution_count": 21,
   "metadata": {},
   "outputs": [
    {
     "name": "stdout",
     "output_type": "stream",
     "text": [
      "Hit rate: 0.9395491803278688\n",
      "MRR score: 0.7059694574551134\n",
      "NDCG score: 0.7629156833486298\n"
     ]
    }
   ],
   "source": [
    "retriver_improve_bkai = index_improve_bkai.as_retriever(vector_store_query_mode=\"hybrid\",alpha = 0,similarity_top_k = 10)\n",
    "evaluate(retriver_improve_bkai, test)"
   ]
  },
  {
   "cell_type": "code",
   "execution_count": 22,
   "metadata": {},
   "outputs": [
    {
     "name": "stdout",
     "output_type": "stream",
     "text": [
      "Hit rate: 0.9395491803278688\n",
      "MRR score: 0.7059694574551134\n",
      "NDCG score: 0.7629156833486298\n"
     ]
    }
   ],
   "source": [
    "retreiver_improve_bkai = index_improve_bkai.as_retriever(vector_store_query_mode=\"hybrid\",alpha = 0.5,similarity_top_k = 10)\n",
    "evaluate(retriver_improve_bkai, test)"
   ]
  },
  {
   "cell_type": "code",
   "execution_count": 23,
   "metadata": {},
   "outputs": [
    {
     "name": "stdout",
     "output_type": "stream",
     "text": [
      "Hit rate: 0.9559426229508197\n",
      "MRR score: 0.7694017531876142\n",
      "NDCG score: 0.8155590812403827\n"
     ]
    }
   ],
   "source": [
    "retriver_improve_bkai = index_improve_bkai.as_retriever(vector_store_query_mode=\"hybrid\",alpha = 0.75,similarity_top_k = 10)\n",
    "evaluate(retriver_improve_bkai, test)"
   ]
  },
  {
   "cell_type": "code",
   "execution_count": 24,
   "metadata": {},
   "outputs": [
    {
     "name": "stdout",
     "output_type": "stream",
     "text": [
      "Hit rate: 0.9620901639344263\n",
      "MRR score: 0.779317915690867\n",
      "NDCG score: 0.8245393448548088\n"
     ]
    }
   ],
   "source": [
    "retriver_improve_bkai = index_improve_bkai.as_retriever(vector_store_query_mode=\"hybrid\",alpha = 1,similarity_top_k = 10)\n",
    "evaluate(retriver_improve_bkai, test)"
   ]
  }
 ],
 "metadata": {
  "kernelspec": {
   "display_name": "llma",
   "language": "python",
   "name": "python3"
  },
  "language_info": {
   "codemirror_mode": {
    "name": "ipython",
    "version": 3
   },
   "file_extension": ".py",
   "mimetype": "text/x-python",
   "name": "python",
   "nbconvert_exporter": "python",
   "pygments_lexer": "ipython3",
   "version": "3.12.0"
  }
 },
 "nbformat": 4,
 "nbformat_minor": 2
}
